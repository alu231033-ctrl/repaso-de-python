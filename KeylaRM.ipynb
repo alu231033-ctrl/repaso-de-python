{
  "nbformat": 4,
  "nbformat_minor": 0,
  "metadata": {
    "colab": {
      "provenance": [],
      "authorship_tag": "ABX9TyMa6ZTjIkNLWYHha8wN3HnM",
      "include_colab_link": true
    },
    "kernelspec": {
      "name": "python3",
      "display_name": "Python 3"
    },
    "language_info": {
      "name": "python"
    }
  },
  "cells": [
    {
      "cell_type": "markdown",
      "metadata": {
        "id": "view-in-github",
        "colab_type": "text"
      },
      "source": [
        "<a href=\"https://colab.research.google.com/github/alu231033-ctrl/repaso-de-python/blob/main/KeylaRM.ipynb\" target=\"_parent\"><img src=\"https://colab.research.google.com/assets/colab-badge.svg\" alt=\"Open In Colab\"/></a>"
      ]
    },
    {
      "cell_type": "code",
      "execution_count": null,
      "metadata": {
        "id": "87ahHNGS-5lH"
      },
      "outputs": [],
      "source": []
    },
    {
      "cell_type": "markdown",
      "source": [
        "REALIZAR UN PROGRAMA QUE PERMITA CAPTURAR TU NOMBRE Y LO IMPRIMA SEGUIDO DE UNA BIENVENIDA"
      ],
      "metadata": {
        "id": "ukrj-cI4_PIA"
      }
    },
    {
      "cell_type": "code",
      "source": [
        "print(\"hola mundo\")"
      ],
      "metadata": {
        "colab": {
          "base_uri": "https://localhost:8080/"
        },
        "id": "S8Yb9O8Z_hp3",
        "outputId": "0608c8a2-7fd1-4b27-95ad-fed47f43973e"
      },
      "execution_count": 1,
      "outputs": [
        {
          "output_type": "stream",
          "name": "stdout",
          "text": [
            "hola mundo\n"
          ]
        }
      ]
    },
    {
      "cell_type": "code",
      "source": [
        "nombre = \"keyla\"\n",
        "print (\"Hola\", nombre + \"!\")\n",
        "print (\"bienvenido al programa\")"
      ],
      "metadata": {
        "colab": {
          "base_uri": "https://localhost:8080/"
        },
        "id": "8zakASVVA3yU",
        "outputId": "ae2e2524-ccb7-4096-a487-d4929e25871e"
      },
      "execution_count": 2,
      "outputs": [
        {
          "output_type": "stream",
          "name": "stdout",
          "text": [
            "Hola keyla!\n",
            "bienvenido al programa\n"
          ]
        }
      ]
    },
    {
      "cell_type": "markdown",
      "source": [
        "Realizar un programa que permita capturar 2 numeros enteros e imprima la suma, la resta, la multiplicacion y la division entre ellos."
      ],
      "metadata": {
        "id": "NAIwnOZZDIFT"
      }
    },
    {
      "cell_type": "code",
      "source": [
        "num1=int(input(\"captura un numero\"))\n",
        "num2=int(input(\"captura un numero\"))\n",
        "s=num1+num2\n",
        "print(\"la suma es\", s)\n",
        "\n",
        "num1=int(input(\"captura un numero\"))\n",
        "num2=int(input(\"captura un numero\"))\n",
        "r=num1-num2\n",
        "print(\"la resta es\", r)\n",
        "\n",
        "num1=int(input(\"captura un numero\"))\n",
        "num2=int(input(\"captura un numero\"))\n",
        "m=num1*num2\n",
        "print(\"la multiplicacion es\", m)\n",
        "\n",
        "num1=int(input(\"captura un numero\"))\n",
        "num2=int(input(\"captura un numero\"))\n",
        "d=num1/num2\n",
        "print(\"la division es\", d)"
      ],
      "metadata": {
        "colab": {
          "base_uri": "https://localhost:8080/"
        },
        "id": "vr0K0N3ZDZyq",
        "outputId": "0c4b13d3-c83d-4296-fc34-eefab4733609"
      },
      "execution_count": 6,
      "outputs": [
        {
          "output_type": "stream",
          "name": "stdout",
          "text": [
            "captura un numero5\n",
            "captura un numero5\n",
            "la suma es 10\n",
            "captura un numero5\n",
            "captura un numero5\n",
            "la resta es 0\n",
            "captura un numero5\n",
            "captura un numero5\n",
            "la multiplicacion es 25\n",
            "captura un numero5\n",
            "captura un numero5\n",
            "la division es 1.0\n"
          ]
        }
      ]
    }
  ]
}